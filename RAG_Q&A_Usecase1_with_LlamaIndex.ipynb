{
 "cells": [
  {
   "cell_type": "markdown",
   "id": "1071f3d1",
   "metadata": {},
   "source": [
    "# importing the required libraries"
   ]
  },
  {
   "cell_type": "code",
   "execution_count": 41,
   "id": "7ccfa561",
   "metadata": {},
   "outputs": [],
   "source": [
    "from pathlib import Path\n",
    "from llama_index.core import VectorStoreIndex,ServiceContext,PromptTemplate,get_response_synthesizer,download_loader\n",
    "from llama_index.llms.openai import OpenAI\n",
    "from llama_index.embeddings.huggingface import HuggingFaceEmbedding\n",
    "from llama_index.core.query_engine import RetrieverQueryEngine\n",
    "import torch\n",
    "from transformers import BitsAndBytesConfig\n",
    "from llama_index.core.evaluation import (\n",
    "    FaithfulnessEvaluator,\n",
    "    CorrectnessEvaluator,\n",
    "    RelevancyEvaluator,\n",
    "    RetrieverEvaluator,\n",
    "    DatasetGenerator,\n",
    "    generate_question_context_pairs\n",
    ")\n",
    "import nest_asyncio\n",
    "import os\n",
    "os.environ[\"TOKENIZERS_PARALLELISM\"] = \"false\"\n",
    "os.environ['OPENAI_API_KEY']=\"abc\""
   ]
  },
  {
   "cell_type": "markdown",
   "id": "4b2899c1",
   "metadata": {},
   "source": [
    "# Load the data"
   ]
  },
  {
   "cell_type": "code",
   "execution_count": 2,
   "id": "0b6f9429",
   "metadata": {},
   "outputs": [
    {
     "name": "stderr",
     "output_type": "stream",
     "text": [
      "/tmp/ipykernel_2647/1223085099.py:1: DeprecationWarning: Call to deprecated function (or staticmethod) download_loader. (`download_loader()` is deprecated. Please install tool using pip install directly instead.)\n",
      "  PDFReader = download_loader(\"PDFReader\")\n"
     ]
    },
    {
     "name": "stdout",
     "output_type": "stream",
     "text": [
      "Requirement already satisfied: llama-index-readers-file in /home/ec2-user/anaconda3/envs/python3/lib/python3.10/site-packages (0.1.19)\n",
      "Requirement already satisfied: beautifulsoup4<5.0.0,>=4.12.3 in /home/ec2-user/anaconda3/envs/python3/lib/python3.10/site-packages (from llama-index-readers-file) (4.12.3)\n",
      "Requirement already satisfied: llama-index-core<0.11.0,>=0.10.1 in /home/ec2-user/anaconda3/envs/python3/lib/python3.10/site-packages (from llama-index-readers-file) (0.10.33)\n",
      "Requirement already satisfied: pypdf<5.0.0,>=4.0.1 in /home/ec2-user/anaconda3/envs/python3/lib/python3.10/site-packages (from llama-index-readers-file) (4.2.0)\n",
      "Requirement already satisfied: striprtf<0.0.27,>=0.0.26 in /home/ec2-user/anaconda3/envs/python3/lib/python3.10/site-packages (from llama-index-readers-file) (0.0.26)\n",
      "Requirement already satisfied: soupsieve>1.2 in /home/ec2-user/anaconda3/envs/python3/lib/python3.10/site-packages (from beautifulsoup4<5.0.0,>=4.12.3->llama-index-readers-file) (2.5)\n",
      "Requirement already satisfied: PyYAML>=6.0.1 in /home/ec2-user/anaconda3/envs/python3/lib/python3.10/site-packages (from llama-index-core<0.11.0,>=0.10.1->llama-index-readers-file) (6.0.1)\n",
      "Requirement already satisfied: SQLAlchemy>=1.4.49 in /home/ec2-user/anaconda3/envs/python3/lib/python3.10/site-packages (from SQLAlchemy[asyncio]>=1.4.49->llama-index-core<0.11.0,>=0.10.1->llama-index-readers-file) (2.0.22)\n",
      "Requirement already satisfied: aiohttp<4.0.0,>=3.8.6 in /home/ec2-user/anaconda3/envs/python3/lib/python3.10/site-packages (from llama-index-core<0.11.0,>=0.10.1->llama-index-readers-file) (3.8.6)\n",
      "Requirement already satisfied: dataclasses-json in /home/ec2-user/anaconda3/envs/python3/lib/python3.10/site-packages (from llama-index-core<0.11.0,>=0.10.1->llama-index-readers-file) (0.6.4)\n",
      "Requirement already satisfied: deprecated>=1.2.9.3 in /home/ec2-user/anaconda3/envs/python3/lib/python3.10/site-packages (from llama-index-core<0.11.0,>=0.10.1->llama-index-readers-file) (1.2.14)\n",
      "Requirement already satisfied: dirtyjson<2.0.0,>=1.0.8 in /home/ec2-user/anaconda3/envs/python3/lib/python3.10/site-packages (from llama-index-core<0.11.0,>=0.10.1->llama-index-readers-file) (1.0.8)\n",
      "Requirement already satisfied: fsspec>=2023.5.0 in /home/ec2-user/anaconda3/envs/python3/lib/python3.10/site-packages (from llama-index-core<0.11.0,>=0.10.1->llama-index-readers-file) (2023.10.0)\n",
      "Requirement already satisfied: httpx in /home/ec2-user/anaconda3/envs/python3/lib/python3.10/site-packages (from llama-index-core<0.11.0,>=0.10.1->llama-index-readers-file) (0.27.0)\n",
      "Requirement already satisfied: llamaindex-py-client<0.2.0,>=0.1.18 in /home/ec2-user/anaconda3/envs/python3/lib/python3.10/site-packages (from llama-index-core<0.11.0,>=0.10.1->llama-index-readers-file) (0.1.19)\n",
      "Requirement already satisfied: nest-asyncio<2.0.0,>=1.5.8 in /home/ec2-user/anaconda3/envs/python3/lib/python3.10/site-packages (from llama-index-core<0.11.0,>=0.10.1->llama-index-readers-file) (1.5.8)\n",
      "Requirement already satisfied: networkx>=3.0 in /home/ec2-user/anaconda3/envs/python3/lib/python3.10/site-packages (from llama-index-core<0.11.0,>=0.10.1->llama-index-readers-file) (3.2)\n",
      "Requirement already satisfied: nltk<4.0.0,>=3.8.1 in /home/ec2-user/anaconda3/envs/python3/lib/python3.10/site-packages (from llama-index-core<0.11.0,>=0.10.1->llama-index-readers-file) (3.8.1)\n",
      "Requirement already satisfied: numpy in /home/ec2-user/anaconda3/envs/python3/lib/python3.10/site-packages (from llama-index-core<0.11.0,>=0.10.1->llama-index-readers-file) (1.26.4)\n",
      "Requirement already satisfied: openai>=1.1.0 in /home/ec2-user/anaconda3/envs/python3/lib/python3.10/site-packages (from llama-index-core<0.11.0,>=0.10.1->llama-index-readers-file) (1.16.1)\n",
      "Requirement already satisfied: pandas in /home/ec2-user/anaconda3/envs/python3/lib/python3.10/site-packages (from llama-index-core<0.11.0,>=0.10.1->llama-index-readers-file) (2.1.1)\n",
      "Requirement already satisfied: pillow>=9.0.0 in /home/ec2-user/anaconda3/envs/python3/lib/python3.10/site-packages (from llama-index-core<0.11.0,>=0.10.1->llama-index-readers-file) (10.0.1)\n",
      "Requirement already satisfied: requests>=2.31.0 in /home/ec2-user/anaconda3/envs/python3/lib/python3.10/site-packages (from llama-index-core<0.11.0,>=0.10.1->llama-index-readers-file) (2.31.0)\n",
      "Requirement already satisfied: tenacity<9.0.0,>=8.2.0 in /home/ec2-user/anaconda3/envs/python3/lib/python3.10/site-packages (from llama-index-core<0.11.0,>=0.10.1->llama-index-readers-file) (8.2.3)\n",
      "Requirement already satisfied: tiktoken>=0.3.3 in /home/ec2-user/anaconda3/envs/python3/lib/python3.10/site-packages (from llama-index-core<0.11.0,>=0.10.1->llama-index-readers-file) (0.6.0)\n",
      "Requirement already satisfied: tqdm<5.0.0,>=4.66.1 in /home/ec2-user/anaconda3/envs/python3/lib/python3.10/site-packages (from llama-index-core<0.11.0,>=0.10.1->llama-index-readers-file) (4.66.1)\n",
      "Requirement already satisfied: typing-extensions>=4.5.0 in /home/ec2-user/anaconda3/envs/python3/lib/python3.10/site-packages (from llama-index-core<0.11.0,>=0.10.1->llama-index-readers-file) (4.8.0)\n",
      "Requirement already satisfied: typing-inspect>=0.8.0 in /home/ec2-user/anaconda3/envs/python3/lib/python3.10/site-packages (from llama-index-core<0.11.0,>=0.10.1->llama-index-readers-file) (0.9.0)\n",
      "Requirement already satisfied: wrapt in /home/ec2-user/anaconda3/envs/python3/lib/python3.10/site-packages (from llama-index-core<0.11.0,>=0.10.1->llama-index-readers-file) (1.15.0)\n",
      "Requirement already satisfied: attrs>=17.3.0 in /home/ec2-user/anaconda3/envs/python3/lib/python3.10/site-packages (from aiohttp<4.0.0,>=3.8.6->llama-index-core<0.11.0,>=0.10.1->llama-index-readers-file) (23.1.0)\n",
      "Requirement already satisfied: charset-normalizer<4.0,>=2.0 in /home/ec2-user/anaconda3/envs/python3/lib/python3.10/site-packages (from aiohttp<4.0.0,>=3.8.6->llama-index-core<0.11.0,>=0.10.1->llama-index-readers-file) (3.3.1)\n",
      "Requirement already satisfied: multidict<7.0,>=4.5 in /home/ec2-user/anaconda3/envs/python3/lib/python3.10/site-packages (from aiohttp<4.0.0,>=3.8.6->llama-index-core<0.11.0,>=0.10.1->llama-index-readers-file) (6.0.4)\n",
      "Requirement already satisfied: async-timeout<5.0,>=4.0.0a3 in /home/ec2-user/anaconda3/envs/python3/lib/python3.10/site-packages (from aiohttp<4.0.0,>=3.8.6->llama-index-core<0.11.0,>=0.10.1->llama-index-readers-file) (4.0.3)\n",
      "Requirement already satisfied: yarl<2.0,>=1.0 in /home/ec2-user/anaconda3/envs/python3/lib/python3.10/site-packages (from aiohttp<4.0.0,>=3.8.6->llama-index-core<0.11.0,>=0.10.1->llama-index-readers-file) (1.9.2)\n",
      "Requirement already satisfied: frozenlist>=1.1.1 in /home/ec2-user/anaconda3/envs/python3/lib/python3.10/site-packages (from aiohttp<4.0.0,>=3.8.6->llama-index-core<0.11.0,>=0.10.1->llama-index-readers-file) (1.4.0)\n",
      "Requirement already satisfied: aiosignal>=1.1.2 in /home/ec2-user/anaconda3/envs/python3/lib/python3.10/site-packages (from aiohttp<4.0.0,>=3.8.6->llama-index-core<0.11.0,>=0.10.1->llama-index-readers-file) (1.3.1)\n",
      "Requirement already satisfied: pydantic>=1.10 in /home/ec2-user/anaconda3/envs/python3/lib/python3.10/site-packages (from llamaindex-py-client<0.2.0,>=0.1.18->llama-index-core<0.11.0,>=0.10.1->llama-index-readers-file) (2.6.4)\n",
      "Requirement already satisfied: anyio in /home/ec2-user/anaconda3/envs/python3/lib/python3.10/site-packages (from httpx->llama-index-core<0.11.0,>=0.10.1->llama-index-readers-file) (4.0.0)\n",
      "Requirement already satisfied: certifi in /home/ec2-user/anaconda3/envs/python3/lib/python3.10/site-packages (from httpx->llama-index-core<0.11.0,>=0.10.1->llama-index-readers-file) (2023.7.22)\n",
      "Requirement already satisfied: httpcore==1.* in /home/ec2-user/anaconda3/envs/python3/lib/python3.10/site-packages (from httpx->llama-index-core<0.11.0,>=0.10.1->llama-index-readers-file) (1.0.5)\n",
      "Requirement already satisfied: idna in /home/ec2-user/anaconda3/envs/python3/lib/python3.10/site-packages (from httpx->llama-index-core<0.11.0,>=0.10.1->llama-index-readers-file) (3.4)\n",
      "Requirement already satisfied: sniffio in /home/ec2-user/anaconda3/envs/python3/lib/python3.10/site-packages (from httpx->llama-index-core<0.11.0,>=0.10.1->llama-index-readers-file) (1.3.0)\n",
      "Requirement already satisfied: h11<0.15,>=0.13 in /home/ec2-user/anaconda3/envs/python3/lib/python3.10/site-packages (from httpcore==1.*->httpx->llama-index-core<0.11.0,>=0.10.1->llama-index-readers-file) (0.14.0)\n",
      "Requirement already satisfied: click in /home/ec2-user/anaconda3/envs/python3/lib/python3.10/site-packages (from nltk<4.0.0,>=3.8.1->llama-index-core<0.11.0,>=0.10.1->llama-index-readers-file) (8.1.7)\n",
      "Requirement already satisfied: joblib in /home/ec2-user/anaconda3/envs/python3/lib/python3.10/site-packages (from nltk<4.0.0,>=3.8.1->llama-index-core<0.11.0,>=0.10.1->llama-index-readers-file) (1.3.2)\n",
      "Requirement already satisfied: regex>=2021.8.3 in /home/ec2-user/anaconda3/envs/python3/lib/python3.10/site-packages (from nltk<4.0.0,>=3.8.1->llama-index-core<0.11.0,>=0.10.1->llama-index-readers-file) (2023.10.3)\n",
      "Requirement already satisfied: distro<2,>=1.7.0 in /home/ec2-user/anaconda3/envs/python3/lib/python3.10/site-packages (from openai>=1.1.0->llama-index-core<0.11.0,>=0.10.1->llama-index-readers-file) (1.9.0)\n",
      "Requirement already satisfied: urllib3<3,>=1.21.1 in /home/ec2-user/anaconda3/envs/python3/lib/python3.10/site-packages (from requests>=2.31.0->llama-index-core<0.11.0,>=0.10.1->llama-index-readers-file) (2.2.1)\n",
      "Requirement already satisfied: greenlet!=0.4.17 in /home/ec2-user/anaconda3/envs/python3/lib/python3.10/site-packages (from SQLAlchemy>=1.4.49->SQLAlchemy[asyncio]>=1.4.49->llama-index-core<0.11.0,>=0.10.1->llama-index-readers-file) (3.0.1)\n",
      "Requirement already satisfied: mypy-extensions>=0.3.0 in /home/ec2-user/anaconda3/envs/python3/lib/python3.10/site-packages (from typing-inspect>=0.8.0->llama-index-core<0.11.0,>=0.10.1->llama-index-readers-file) (1.0.0)\n",
      "Requirement already satisfied: marshmallow<4.0.0,>=3.18.0 in /home/ec2-user/anaconda3/envs/python3/lib/python3.10/site-packages (from dataclasses-json->llama-index-core<0.11.0,>=0.10.1->llama-index-readers-file) (3.21.1)\n",
      "Requirement already satisfied: python-dateutil>=2.8.2 in /home/ec2-user/anaconda3/envs/python3/lib/python3.10/site-packages (from pandas->llama-index-core<0.11.0,>=0.10.1->llama-index-readers-file) (2.8.2)\n",
      "Requirement already satisfied: pytz>=2020.1 in /home/ec2-user/anaconda3/envs/python3/lib/python3.10/site-packages (from pandas->llama-index-core<0.11.0,>=0.10.1->llama-index-readers-file) (2023.3.post1)\n",
      "Requirement already satisfied: tzdata>=2022.1 in /home/ec2-user/anaconda3/envs/python3/lib/python3.10/site-packages (from pandas->llama-index-core<0.11.0,>=0.10.1->llama-index-readers-file) (2023.3)\n",
      "Requirement already satisfied: exceptiongroup>=1.0.2 in /home/ec2-user/anaconda3/envs/python3/lib/python3.10/site-packages (from anyio->httpx->llama-index-core<0.11.0,>=0.10.1->llama-index-readers-file) (1.1.3)\n",
      "Requirement already satisfied: packaging>=17.0 in /home/ec2-user/anaconda3/envs/python3/lib/python3.10/site-packages (from marshmallow<4.0.0,>=3.18.0->dataclasses-json->llama-index-core<0.11.0,>=0.10.1->llama-index-readers-file) (23.2)\n",
      "Requirement already satisfied: annotated-types>=0.4.0 in /home/ec2-user/anaconda3/envs/python3/lib/python3.10/site-packages (from pydantic>=1.10->llamaindex-py-client<0.2.0,>=0.1.18->llama-index-core<0.11.0,>=0.10.1->llama-index-readers-file) (0.6.0)\n",
      "Requirement already satisfied: pydantic-core==2.16.3 in /home/ec2-user/anaconda3/envs/python3/lib/python3.10/site-packages (from pydantic>=1.10->llamaindex-py-client<0.2.0,>=0.1.18->llama-index-core<0.11.0,>=0.10.1->llama-index-readers-file) (2.16.3)\n",
      "Requirement already satisfied: six>=1.5 in /home/ec2-user/anaconda3/envs/python3/lib/python3.10/site-packages (from python-dateutil>=2.8.2->pandas->llama-index-core<0.11.0,>=0.10.1->llama-index-readers-file) (1.16.0)\n"
     ]
    },
    {
     "data": {
      "text/plain": [
       "200"
      ]
     },
     "execution_count": 2,
     "metadata": {},
     "output_type": "execute_result"
    }
   ],
   "source": [
    "PDFReader = download_loader(\"PDFReader\")\n",
    "loader = PDFReader()\n",
    "documents = loader.load_data(file=Path('./Human-Nutrition-2020-Edition-1598491699.pdf'))\n",
    "documents = documents[0:200] # considering 200 documents\n",
    "len(documents)"
   ]
  },
  {
   "cell_type": "markdown",
   "id": "7542b343",
   "metadata": {},
   "source": [
    "# Define and create embeddings and store in Vector DB\n"
   ]
  },
  {
   "cell_type": "code",
   "execution_count": 3,
   "id": "c6bb117f",
   "metadata": {},
   "outputs": [
    {
     "name": "stderr",
     "output_type": "stream",
     "text": [
      "/home/ec2-user/anaconda3/envs/python3/lib/python3.10/site-packages/torch/cuda/__init__.py:619: UserWarning: Can't initialize NVML\n",
      "  warnings.warn(\"Can't initialize NVML\")\n"
     ]
    },
    {
     "data": {
      "application/vnd.jupyter.widget-view+json": {
       "model_id": "c8267aeb1cf744e2b7e51dc7ee668e73",
       "version_major": 2,
       "version_minor": 0
      },
      "text/plain": [
       "Parsing nodes:   0%|          | 0/200 [00:00<?, ?it/s]"
      ]
     },
     "metadata": {},
     "output_type": "display_data"
    },
    {
     "data": {
      "application/vnd.jupyter.widget-view+json": {
       "model_id": "52d8e440fcdc4d138eaf6fd32d1f5c9c",
       "version_major": 2,
       "version_minor": 0
      },
      "text/plain": [
       "Generating embeddings:   0%|          | 0/200 [00:00<?, ?it/s]"
      ]
     },
     "metadata": {},
     "output_type": "display_data"
    }
   ],
   "source": [
    "embed_model = HuggingFaceEmbedding('BAAI/bge-small-en-v1.5')\n",
    "vector_index = VectorStoreIndex.from_documents(documents=documents,embed_model=embed_model,show_progress=True)"
   ]
  },
  {
   "cell_type": "markdown",
   "id": "3af2bc60",
   "metadata": {},
   "source": [
    "# using Retrievers"
   ]
  },
  {
   "cell_type": "code",
   "execution_count": 4,
   "id": "c485ec93",
   "metadata": {},
   "outputs": [
    {
     "name": "stdout",
     "output_type": "stream",
     "text": [
      "Node id: cec44fb7-43ba-4373-a1d7-260224492f47\n",
      "Metadata: {'page_label': '46', 'file_name': 'Human-Nutrition-2020-Edition-1598491699.pdf'}\n",
      "Score: 0.7755160297111663\n",
      "Node id: 7e0fcc26-7aa1-4801-9078-6b603403d9ab\n",
      "Metadata: {'page_label': '49', 'file_name': 'Human-Nutrition-2020-Edition-1598491699.pdf'}\n",
      "Score: 0.7651608637470783\n"
     ]
    }
   ],
   "source": [
    "reteriver = vector_index.as_retriever(top_k=2)\n",
    "nodes = reteriver.retrieve('macronutrients functions')\n",
    "\n",
    "for node in nodes:\n",
    "    print(\"Node id:\",node.id_)\n",
    "    print(\"Metadata:\",node.metadata)\n",
    "    print(\"Score:\",node.get_score())"
   ]
  },
  {
   "cell_type": "markdown",
   "id": "759c7041",
   "metadata": {},
   "source": [
    "# Build Query Engine"
   ]
  },
  {
   "cell_type": "code",
   "execution_count": 5,
   "id": "b264e530",
   "metadata": {},
   "outputs": [],
   "source": [
    "SYSTEM_PROMPT = \"\"\"You are an AI assistant that answers questions in a friendly manner, based on the given source documents. Here are some rules you always follow:\n",
    "- Generate human readable output, avoid creating output with gibberish text.\n",
    "- Generate only the requested output, don't include any other language before or after the requested output.\n",
    "- Never say thank you, that you are happy to help, that you are an AI agent, etc. Just answer directly.\n",
    "- Generate professional language typically used in business documents in North America.\n",
    "- Never generate offensive or foul language.\n",
    "\"\"\"\n",
    "\n",
    "query_wrapper_prompt = PromptTemplate(\n",
    "    \"[INST]<<SYS>>\\n\" + SYSTEM_PROMPT + \"<</SYS>>\\n\\n{query_str}[/INST] \"\n",
    ")\n",
    "\n",
    "quantization_config = BitsAndBytesConfig(\n",
    "    load_in_4bit=True,\n",
    "    bnb_4bit_compute_dtype=torch.float16,\n",
    "    bnb_4bit_quant_type=\"nf4\",\n",
    "    bnb_4bit_use_double_quant=True,\n",
    ")"
   ]
  },
  {
   "cell_type": "code",
   "execution_count": 9,
   "id": "433605a0",
   "metadata": {},
   "outputs": [],
   "source": [
    "# Define LLM\n",
    "\n",
    "llm = OpenAI(temperature=0.7,model='gpt-4',verbose=True)"
   ]
  },
  {
   "cell_type": "markdown",
   "id": "0683fb1c",
   "metadata": {},
   "source": [
    "# Define Response Synthesizer"
   ]
  },
  {
   "cell_type": "code",
   "execution_count": 11,
   "id": "1bce3a53",
   "metadata": {},
   "outputs": [],
   "source": [
    "response_synthesizer = get_response_synthesizer(llm=llm,response_mode='refine')"
   ]
  },
  {
   "cell_type": "code",
   "execution_count": 14,
   "id": "72b0c2ae",
   "metadata": {},
   "outputs": [
    {
     "data": {
      "text/plain": [
       "Response(response=\"Macronutrients, including carbohydrates, lipids, protein, and water, have three primary roles in the body. They supply energy, with proteins providing four kilocalories of energy per gram. They contribute to the body's structure, for instance, proteins provide structure to bones, muscles, and skin. Lastly, they regulate chemical reactions in the body, proteins are involved in most chemical reactions that occur in the body. These roles enable us to sense and react to our environment, move, eliminate waste, respire, grow, and reproduce.\", source_nodes=[NodeWithScore(node=TextNode(id_='cec44fb7-43ba-4373-a1d7-260224492f47', embedding=None, metadata={'page_label': '46', 'file_name': 'Human-Nutrition-2020-Edition-1598491699.pdf'}, excluded_embed_metadata_keys=[], excluded_llm_metadata_keys=[], relationships={<NodeRelationship.SOURCE: '1'>: RelatedNodeInfo(node_id='b0e52a8f-6478-4b92-9856-a5eaba124ee4', node_type=<ObjectType.DOCUMENT: '4'>, metadata={'page_label': '46', 'file_name': 'Human-Nutrition-2020-Edition-1598491699.pdf'}, hash='da12a32cd4c6c807df1391d80331b85c0e1680e00ceff6409455291a426418cc'), <NodeRelationship.PREVIOUS: '2'>: RelatedNodeInfo(node_id='a62a7a00-a2b8-467a-9970-830ed2c9e807', node_type=<ObjectType.TEXT: '1'>, metadata={'page_label': '45', 'file_name': 'Human-Nutrition-2020-Edition-1598491699.pdf'}, hash='3d4ca79fa4e118d05328877f36d1cea06914195bb1be2ef343e5d210461f1c77'), <NodeRelationship.NEXT: '3'>: RelatedNodeInfo(node_id='1d99e86c-a59a-4b38-8d72-2e80ca80108f', node_type=<ObjectType.TEXT: '1'>, metadata={}, hash='ab194d11aac5dc1b6eba742f5bb30d742d723d0d83cc1c4198f791a0f2482c5a')}, text='Learnin g Objectives \\nBy the end o f this chapter , you will be able to: \\n• Describe basic c oncepts in nutri tion \\n• Describe fac tors tha t affect your nutri tional ne eds \\n• Describe the impor tanc e of research and scien tific \\nmethods to understanding nutri tion \\nWhat ar e Nutrients? \\nThe f oods w e eat contain nutrien ts. Nutrien ts ar e substanc es \\nrequired by the bod y to perf orm i ts basic func tions. Nutrien ts must \\nbe obtaine d fr om our die t, sinc e the human bod y does not \\nsynthesiz e or pr oduc e them. Nutrien ts ha ve one or mor e of thr ee \\nbasic func tions: the y provide ener gy, contribute to bod y struc ture, \\nand/or r egula te chemic al pr ocesses in the bod y. These basic \\nfunc tions allo w us to de tect and r espond to en vironmen tal \\nsurroundings, mo ve, excrete w astes, r espir e (br eathe), gr ow, and \\nreproduc e. Ther e are six classes o f nutrien ts required for the bod y \\nto func tion and main tain o verall he alth. These ar e carboh ydrates, \\nlipids, pr oteins, w ater, vitamins, and miner als. Foods also c ontain \\nnon-nutrien ts tha t ma y be harmful ( such as na tural to xins c ommon \\nin plan t foods and addi tives lik e some d yes and pr eser vatives) or \\nbenef icial ( such as an tioxidan ts). \\n4  |  Introduc tion', start_char_idx=0, end_char_idx=1270, text_template='{metadata_str}\\n\\n{content}', metadata_template='{key}: {value}', metadata_seperator='\\n'), score=0.7755160297111663), NodeWithScore(node=TextNode(id_='7e0fcc26-7aa1-4801-9078-6b603403d9ab', embedding=None, metadata={'page_label': '49', 'file_name': 'Human-Nutrition-2020-Edition-1598491699.pdf'}, excluded_embed_metadata_keys=[], excluded_llm_metadata_keys=[], relationships={<NodeRelationship.SOURCE: '1'>: RelatedNodeInfo(node_id='1bccdc8d-6294-45af-8d5e-4d2c4b4f3818', node_type=<ObjectType.DOCUMENT: '4'>, metadata={'page_label': '49', 'file_name': 'Human-Nutrition-2020-Edition-1598491699.pdf'}, hash='bf991b00efad6e39a47f079f5c7685ba7a05e906cc157abb9f7c1b37550f16ce'), <NodeRelationship.PREVIOUS: '2'>: RelatedNodeInfo(node_id='a8472f7f-359f-4266-82bc-843fc529359b', node_type=<ObjectType.TEXT: '1'>, metadata={'page_label': '48', 'file_name': 'Human-Nutrition-2020-Edition-1598491699.pdf'}, hash='24b27ed338c891fff80706dec187a3f618604f5bac659aeeb8186b44a0b27dd1'), <NodeRelationship.NEXT: '3'>: RelatedNodeInfo(node_id='c270b93f-2449-4129-8593-eb052e8033a6', node_type=<ObjectType.TEXT: '1'>, metadata={}, hash='638ba5676d6b732b68149ed9817733df46b4505b1ab4a45a87bf54a829f16869')}, text='Figur e 1.1 The \\nMacronutrie\\nnts: \\nCarbohydr at\\nes, L ipids, \\nProtein, and \\nWater Proteins \\nProteins ar e macr omole cules c ompose d of chains o f subuni ts called \\namino acids. Amino acids ar e simple subuni ts compose d of carbon, \\noxygen, h ydrogen, and ni trogen. Food sour ces of proteins include \\nmeats, dair y pr oduc ts, se afood, and a v ariety of dif ferent plan t-\\nbase d foods, most notabl y so y. The w ord pr otein c omes fr om a \\nGreek w ord me aning “ of primar y impor tanc e,” which is an apt \\ndescription o f these macr onutrien ts; the y ar e also kno wn \\ncolloquiall y as the “w orkhorses” o f life. Pr oteins pr ovide f our \\nkiloc alories o f ener gy per gr am; ho wever pr oviding ener gy is not \\nprotein ’s most impor tant func tion. Pr oteins pr ovide struc ture to \\nbones, muscles and skin, and pla y a r ole in c onduc ting most o f the \\nchemic al reactions tha t tak e plac e in the bod y. Scien tists estima te \\nthat greater than one-hundr ed thousand dif ferent proteins e xist \\nwithin the human bod y. The gene tic c odes in D NA ar e basic ally \\nprotein r ecipes tha t de termine the or der in which 20 dif ferent \\namino acids ar e bound toge ther to mak e thousands o f spe cific \\nproteins. \\nFigur e 1.1 The Macr onutrien ts: Carboh ydrates, Lipids, Pr otein, and \\nWater \\nIntroduc tion  |  7', start_char_idx=0, end_char_idx=1325, text_template='{metadata_str}\\n\\n{content}', metadata_template='{key}: {value}', metadata_seperator='\\n'), score=0.7651608637470783)], metadata={'cec44fb7-43ba-4373-a1d7-260224492f47': {'page_label': '46', 'file_name': 'Human-Nutrition-2020-Edition-1598491699.pdf'}, '7e0fcc26-7aa1-4801-9078-6b603403d9ab': {'page_label': '49', 'file_name': 'Human-Nutrition-2020-Edition-1598491699.pdf'}})"
      ]
     },
     "execution_count": 14,
     "metadata": {},
     "output_type": "execute_result"
    }
   ],
   "source": [
    "query_engine = RetrieverQueryEngine(retriever=reteriver,response_synthesizer=response_synthesizer)\n",
    "response = query_engine.query('macronutrients functions')\n",
    "response"
   ]
  },
  {
   "cell_type": "markdown",
   "id": "6b50ebcb",
   "metadata": {},
   "source": [
    "# Evaluation"
   ]
  },
  {
   "cell_type": "code",
   "execution_count": 15,
   "id": "4dd24f8d",
   "metadata": {},
   "outputs": [
    {
     "name": "stderr",
     "output_type": "stream",
     "text": [
      "/home/ec2-user/anaconda3/envs/python3/lib/python3.10/site-packages/llama_index/core/evaluation/dataset_generation.py:212: DeprecationWarning: Call to deprecated class DatasetGenerator. (Deprecated in favor of `RagDatasetGenerator` which should be used instead.)\n",
      "  return cls(\n",
      "/home/ec2-user/anaconda3/envs/python3/lib/python3.10/site-packages/llama_index/core/evaluation/dataset_generation.py:309: DeprecationWarning: Call to deprecated class QueryResponseDataset. (Deprecated in favor of `LabelledRagDataset` which should be used instead.)\n",
      "  return QueryResponseDataset(queries=queries, responses=responses_dict)\n"
     ]
    }
   ],
   "source": [
    "nest_asyncio.apply()\n",
    "data_generator = DatasetGenerator.from_documents(documents,llm=llm)\n",
    "eval_dataset = data_generator.generate_dataset_from_nodes(num=3) "
   ]
  },
  {
   "cell_type": "code",
   "execution_count": 17,
   "id": "782202a0",
   "metadata": {},
   "outputs": [],
   "source": [
    "eval_questions = [example for example in eval_dataset.queries.values()]\n",
    "eval_answers = [example for example in eval_dataset.responses.values()]"
   ]
  },
  {
   "cell_type": "code",
   "execution_count": 19,
   "id": "91df1ab3",
   "metadata": {},
   "outputs": [],
   "source": [
    "eval_query = eval_questions[0]\n",
    "reference_answer = eval_answers[0]"
   ]
  },
  {
   "cell_type": "code",
   "execution_count": 24,
   "id": "e544a898",
   "metadata": {},
   "outputs": [
    {
     "name": "stderr",
     "output_type": "stream",
     "text": [
      "/tmp/ipykernel_2647/340935722.py:4: DeprecationWarning: Call to deprecated class method from_defaults. (ServiceContext is deprecated, please use `llama_index.settings.Settings` instead.) -- Deprecated since version 0.10.0.\n",
      "  service_context = ServiceContext.from_defaults(embed_model=embed_model,llm=llm)\n"
     ]
    },
    {
     "data": {
      "text/plain": [
       "['Fail', 'Pass', 'Fail']"
      ]
     },
     "execution_count": 24,
     "metadata": {},
     "output_type": "execute_result"
    }
   ],
   "source": [
    "query_engine = vector_index.as_query_engine(llm=llm,similarity_top_k=3)\n",
    "response_vector = query_engine.query(eval_query)\n",
    "\n",
    "service_context = ServiceContext.from_defaults(embed_model=embed_model,llm=llm)\n",
    "\n",
    "relevancy_evaluator = RelevancyEvaluator(service_context=service_context)\n",
    "eval_source_result_full = [\n",
    "        relevancy_evaluator.evaluate(\n",
    "            query=eval_query,\n",
    "            response=response_vector.response,\n",
    "            contexts=[source_node.get_content()],\n",
    "        )\n",
    "        for source_node in response_vector.source_nodes\n",
    "    ]\n",
    "eval_source_result = [\n",
    "        \"Pass\" if result.passing else \"Fail\" for result in eval_source_result_full\n",
    "    ]\n",
    "eval_source_result"
   ]
  },
  {
   "cell_type": "code",
   "execution_count": 25,
   "id": "e80582cd",
   "metadata": {},
   "outputs": [
    {
     "data": {
      "text/plain": [
       "(1.0, True, 'YES')"
      ]
     },
     "execution_count": 25,
     "metadata": {},
     "output_type": "execute_result"
    }
   ],
   "source": [
    "faithfulness_evaluator = FaithfulnessEvaluator(service_context=service_context)\n",
    "eval_result = faithfulness_evaluator.evaluate_response(response=response_vector) \n",
    "eval_result.score,eval_result.passing,eval_result.feedback"
   ]
  },
  {
   "cell_type": "code",
   "execution_count": 26,
   "id": "132070f3",
   "metadata": {},
   "outputs": [
    {
     "data": {
      "text/plain": [
       "(5.0,\n",
       " True,\n",
       " 'The generated answer is exactly correct and relevant to the user query. It provides the same information as the reference answer in a complete and clear sentence.')"
      ]
     },
     "execution_count": 26,
     "metadata": {},
     "output_type": "execute_result"
    }
   ],
   "source": [
    "correctness_evaluator = CorrectnessEvaluator(service_context=service_context)\n",
    "eval_reference_answer = eval_answers[0]\n",
    "\n",
    "correctness_result = correctness_evaluator.evaluate(\n",
    "    query=eval_query,\n",
    "    response=response_vector.response,\n",
    "    reference=reference_answer,\n",
    ")\n",
    "correctness_result.score,correctness_result.passing,correctness_result.feedback"
   ]
  },
  {
   "cell_type": "code",
   "execution_count": 42,
   "id": "876202d0",
   "metadata": {},
   "outputs": [
    {
     "name": "stderr",
     "output_type": "stream",
     "text": [
      "100%|██████████| 2/2 [00:10<00:00,  5.20s/it]\n"
     ]
    }
   ],
   "source": [
    "qa_dataset = generate_question_context_pairs(nodes,llm,num_questions_per_chunk=4)"
   ]
  },
  {
   "cell_type": "code",
   "execution_count": 44,
   "id": "6277f50a",
   "metadata": {},
   "outputs": [
    {
     "data": {
      "text/html": [
       "<div>\n",
       "<style scoped>\n",
       "    .dataframe tbody tr th:only-of-type {\n",
       "        vertical-align: middle;\n",
       "    }\n",
       "\n",
       "    .dataframe tbody tr th {\n",
       "        vertical-align: top;\n",
       "    }\n",
       "\n",
       "    .dataframe thead th {\n",
       "        text-align: right;\n",
       "    }\n",
       "</style>\n",
       "<table border=\"1\" class=\"dataframe\">\n",
       "  <thead>\n",
       "    <tr style=\"text-align: right;\">\n",
       "      <th></th>\n",
       "      <th>Retriever Name</th>\n",
       "      <th>Hit Rate</th>\n",
       "      <th>MRR</th>\n",
       "    </tr>\n",
       "  </thead>\n",
       "  <tbody>\n",
       "    <tr>\n",
       "      <th>0</th>\n",
       "      <td>OpenAI Embedding Retriever</td>\n",
       "      <td>0.875</td>\n",
       "      <td>0.8125</td>\n",
       "    </tr>\n",
       "  </tbody>\n",
       "</table>\n",
       "</div>"
      ],
      "text/plain": [
       "               Retriever Name  Hit Rate     MRR\n",
       "0  OpenAI Embedding Retriever     0.875  0.8125"
      ]
     },
     "execution_count": 44,
     "metadata": {},
     "output_type": "execute_result"
    }
   ],
   "source": [
    "retriever_evaluator = RetrieverEvaluator.from_metric_names(\n",
    "    [\"mrr\", \"hit_rate\"], retriever=reteriver\n",
    ")\n",
    "\n",
    "def display_results(name, eval_results):\n",
    "    \"\"\"Display results from evaluate.\"\"\"\n",
    "\n",
    "    metric_dicts = []\n",
    "    for eval_result in eval_results:\n",
    "        metric_dict = eval_result.metric_vals_dict\n",
    "        metric_dicts.append(metric_dict)\n",
    "\n",
    "    full_df = pd.DataFrame(metric_dicts)\n",
    "\n",
    "    hit_rate = full_df[\"hit_rate\"].mean()\n",
    "    mrr = full_df[\"mrr\"].mean()\n",
    "\n",
    "    metric_df = pd.DataFrame(\n",
    "        {\"Retriever Name\": [name], \"Hit Rate\": [hit_rate], \"MRR\": [mrr]}\n",
    "    )\n",
    "\n",
    "    return metric_df\n",
    "\n",
    "eval_result = await retriever_evaluator.aevaluate_dataset(qa_dataset)\n",
    "display_results(\"OpenAI Embedding Retriever\", eval_result)"
   ]
  }
 ],
 "metadata": {
  "kernelspec": {
   "display_name": "conda_python3",
   "language": "python",
   "name": "conda_python3"
  },
  "language_info": {
   "codemirror_mode": {
    "name": "ipython",
    "version": 3
   },
   "file_extension": ".py",
   "mimetype": "text/x-python",
   "name": "python",
   "nbconvert_exporter": "python",
   "pygments_lexer": "ipython3",
   "version": "3.10.13"
  }
 },
 "nbformat": 4,
 "nbformat_minor": 5
}
